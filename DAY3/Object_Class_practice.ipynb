{
 "cells": [
  {
   "cell_type": "markdown",
   "metadata": {},
   "source": [
    "# Object & Class : 객체와 클래스\n",
    ">    - `객체`: 데이터와 그 데이터를 활용한 함수를 묶어서 저장해놓을 수 있는 것들\n",
    ">    - `클래스`: 필요할 때마다 가져다 쓰기 > 재사용성 높은 일종의 틀 역할 > 틀로 생성된 객체 : `인스턴스`\n",
    ">        - 속성(Attribute) : 데이터\n",
    ">        - 행동(Method) : 함수\n",
    "\n",
    "ex) \n",
    "1. 자료형 객체 : 리스트, 사전\n",
    "    - 리스트 : 데이터를 저장, 슬라이싱으로 접근, .append()/ .sort()/ .reverse()와 같은 여러 함수 호출 가능\n",
    "2. 프로그램 안 개념과 기능 정의 : 인스타그램(SNS)의 유저, LOL의 캐릭터\n",
    "    - 유저 : 속성(email, username, password 등)/ 메서드(login(), post() 등)\n",
    "    - 캐릭터 : 속성(location, hp, mp, skill 등)/ 메서드(move(), attack()등)\n",
    "3. Python 내 수많은 기능들 : pandas.DataFrame(), request.get(), webdriver.Chrome()"
   ]
  },
  {
   "cell_type": "markdown",
   "metadata": {},
   "source": [
    "![alt text](<스크린샷 2024-09-10 오전 11.26.40.png>)"
   ]
  },
  {
   "cell_type": "markdown",
   "metadata": {},
   "source": [
    "![alt text](<스크린샷 2024-09-10 오전 11.26.14.png>)"
   ]
  },
  {
   "cell_type": "markdown",
   "metadata": {},
   "source": [
    "![alt text](<스크린샷 2024-09-10 오전 11.29.34.png>)"
   ]
  },
  {
   "cell_type": "markdown",
   "metadata": {},
   "source": [
    "## 1. Python에서 객체 만들기\n",
    "\n",
    "- 인스타그램의 유저 객체 만들기\n",
    "- **모델링** : 객체의 **속성**과 **행동** 틀을 짜기\n",
    "    1. `속성` : 이메일 주소, 이름, 비밀번호, 팔로우 하는 유저 목록, 팔로우 받는 유저 목록 ...\n",
    "    2. `행동(메서드)` : 소개 메세지 출력, 로그인 ...\n",
    "- **모든** 기능이 객체로 만들어져 있는 `순수 객체 지향 언어`입니다.\n",
    "    - 모든 것은 이미 객체이고, 새롭게 만드는 것도 모두 객체로 만들어야 한다.\n",
    "    ```python\n",
    "    import random\n",
    "\n",
    "    def print_hello():\n",
    "        print(\"안녕하세요!\")\n",
    "\n",
    "    # python은 동적 타이핑(typing: 타입 설정)\n",
    "    print(type(2))             # 출력: <class 'int'>\n",
    "    print(type(\"test\"))        # 출력: <class 'str'>\n",
    "    print(type([]))            # 출력: <class 'list'>\n",
    "    print(type({}))            # 출력: <class 'dict'>\n",
    "    print(type(print_hello))   # 출력: <class 'function'>\n",
    "    print(type(random))        # 출력: <class 'module'>\n",
    "    ```\n",
    "    - 2는 int라는 클래스의 인스턴스, \"test\"는 str 클래스의 인스턴스, def print_hello()를 통해 함수(function) 클래스의 인스턴스를 생성하고 있었던 것! "
   ]
  },
  {
   "cell_type": "markdown",
   "metadata": {},
   "source": [
    "- 한 번 쭉, 따라 써볼까요? \n",
    "    - 어떤 공부든 마찬가지지이지만, 당장 이해가 안되도 한 번 쭉 \"눈에 바르고\" 지나간 뒤, 또 한 번 더 보고 하는 식의 공부가 결국 가장 좋습니다! (낯섦이 가장 큰 적)"
   ]
  },
  {
   "cell_type": "markdown",
   "metadata": {},
   "source": [
    "- 그럼, 위 내용들을 하나 하나 깊게! 정리해볼까요?"
   ]
  },
  {
   "cell_type": "code",
   "execution_count": 27,
   "metadata": {},
   "outputs": [
    {
     "name": "stdout",
     "output_type": "stream",
     "text": [
      "<class '__main__.User'>\n",
      "<class '__main__.User'>\n",
      "안녕하세요! 저는 정선우입니다.\n",
      "총 유저 수는: 2입니다.\n"
     ]
    }
   ],
   "source": [
    "class User: # 클래스 이름의 첫 글자는 대문자\n",
    "\n",
    "    count = 0\n",
    "\n",
    "    # init은 자동으로 호출된다 인스턴스를 만들 때!!!\n",
    "    def __init__(self,name,email,password):\n",
    "        self.name = name\n",
    "        self.email = email\n",
    "        self.password = password\n",
    "\n",
    "        User.count += 1\n",
    "\n",
    "    def say_hello(self):   #self는 계속 붙는다\n",
    "        print(f\"안녕하세요! 저는 {self.name}입니다.\")\n",
    "\n",
    "    def login(self, email, password):\n",
    "        if self.email == email and self.password == password:\n",
    "            print(\"로그인 성공, 환영합니다.\")\n",
    "            self.say_hello()             #메소드는 항상 괄호를 열어주어야 한다.\n",
    "        else:\n",
    "            print(\"로그인 실패, 없는 아이디이거나 잘못된 비밀번호입니다.\")\n",
    "    \n",
    "    #####################################################################\n",
    "\n",
    "    # 인스턴스를 문자열로 변환을 하면 자동 실행이 된다!! 근데 여기서는 count를 출력할 때 자동으로 문자열로 바뀌기 때문에 print(user1)을 하면 이름과 이메일만 출력됨\n",
    "    def __str__(self):              #스페셜 메소드\n",
    "        return f\"사용자: {self.name}, 이메일: {self.email}\"\n",
    "    \n",
    "    @classmethod\n",
    "    def print_number_of_users(cls):\n",
    "        print(f\"총 유저 수는: {cls.count}입니다.\")\n",
    "\n",
    "    @staticmethod\n",
    "    def valid_email(email):\n",
    "        return \"@\" in email\n",
    "    \n",
    "# 인스턴스 2개 만들기 -> 다른 2 사용자\n",
    "user1 = User(name = \"정선우\", email = \"seonwoo0911@gmail.com\", password = \"1234567\")   #여기서 인스턴스를 2번 만들었으므로 클래스 메소드에\n",
    "                                                                                        #2가 출력된다.\n",
    "user2 = User(name = \"정다혜\", email = \"dhj9467@gmail.com\", password = \"123467\")\n",
    "# type을 확인하면, 두 인스턴스가 같은 user 클래스로부터 생성된 것임을 확인할 수 있다!\n",
    "print(type(user1))\n",
    "print(type(user2))\n",
    "\n",
    "user1.say_hello()\n",
    "user1.name\n",
    "User.print_number_of_users()    #클래스 메소드"
   ]
  },
  {
   "cell_type": "markdown",
   "metadata": {},
   "source": [
    "### 1-1. 객체의 속성\n",
    ">    1. `인스턴스 변수 : 인스턴스 내부`에서 초기화\n",
    ">        - 서로 다른 인스턴스 사용할 때마다, 변수들을 초기화해줘야 한다.\n",
    ">        - 클래스의 메소드로, 인스턴스 변수 초기화를 하자. > `def __init__()`\n",
    ">    2. `클래스 변수 : 인스턴스 간(외부)` 연결\n",
    ">        - 서로 다른 인스턴스끼리도 공유할 수 있는 변수\n",
    ">            - ex) 인스턴스 생성시, User.count의 값을 1씩 증가시켜 주세요."
   ]
  },
  {
   "cell_type": "markdown",
   "metadata": {},
   "source": [
    "1. 객체의 속성 직접 지정하기"
   ]
  },
  {
   "cell_type": "code",
   "execution_count": 16,
   "metadata": {},
   "outputs": [
    {
     "name": "stdout",
     "output_type": "stream",
     "text": [
      "정선우\n"
     ]
    }
   ],
   "source": [
    "# 괄호가 붙으면 메소드이다!\n",
    "user1.name"
   ]
  },
  {
   "cell_type": "code",
   "execution_count": 2,
   "metadata": {},
   "outputs": [
    {
     "name": "stdout",
     "output_type": "stream",
     "text": [
      "조재찬\n",
      "34567\n"
     ]
    }
   ],
   "source": [
    "# 두 인스턴스는 같은 속성(변수)들을 가질 수 있지만,\n",
    "### 각각 할당된 값들은 다를 수 있다.\n",
    "user1.name = \"조재찬\"\n",
    "user1.email = \"jjc12223a@codeit.kr\"\n",
    "user1.password = \"12345\"\n",
    "\n",
    "user2.name = \"이윤수\"\n",
    "user2.email = \"yoonsoo@codeit.kr\"\n",
    "user2.password = \"34567\"\n",
    "\n",
    "# 위의 지정된 속성을 출력해볼까요?\n",
    "print(user1.name)\n",
    "print(user2.password)\n",
    "\n",
    "# 정의 하지 않은 속성는 출력 오류가 난다!\n",
    "# print(user2.age)"
   ]
  },
  {
   "cell_type": "markdown",
   "metadata": {},
   "source": [
    "- 클래스 변수 count"
   ]
  },
  {
   "cell_type": "code",
   "execution_count": 18,
   "metadata": {},
   "outputs": [
    {
     "data": {
      "text/plain": [
       "(2, 2, 2)"
      ]
     },
     "execution_count": 18,
     "metadata": {},
     "output_type": "execute_result"
    }
   ],
   "source": [
    "User.count, user1.count, user2.count"
   ]
  },
  {
   "cell_type": "code",
   "execution_count": 3,
   "metadata": {},
   "outputs": [
    {
     "name": "stdout",
     "output_type": "stream",
     "text": [
      "2\n",
      "2\n",
      "2\n"
     ]
    }
   ],
   "source": [
    "print(User.count)\n",
    "print(user1.count)\n",
    "print(user2.count)"
   ]
  },
  {
   "cell_type": "code",
   "execution_count": 23,
   "metadata": {},
   "outputs": [
    {
     "data": {
      "text/plain": [
       "(3, 5)"
      ]
     },
     "execution_count": 23,
     "metadata": {},
     "output_type": "execute_result"
    }
   ],
   "source": [
    "user1.count, user2.count"
   ]
  },
  {
   "cell_type": "code",
   "execution_count": 19,
   "metadata": {},
   "outputs": [
    {
     "name": "stdout",
     "output_type": "stream",
     "text": [
      "5\n",
      "5\n",
      "5\n"
     ]
    }
   ],
   "source": [
    "# User 클래스 변수에 접근해서, 값을 변경한다. 그러면 파생된 인스턴스가 연결되어, 함께 변경된다.\n",
    "User.count = 5\n",
    "\n",
    "print(User.count)\n",
    "print(user1.count)\n",
    "print(user2.count)"
   ]
  },
  {
   "cell_type": "code",
   "execution_count": 22,
   "metadata": {},
   "outputs": [
    {
     "name": "stdout",
     "output_type": "stream",
     "text": [
      "5\n",
      "3\n",
      "5\n"
     ]
    }
   ],
   "source": [
    "# 하지만, 이미 파생된, user1 인스턴스만 접근, count 인스턴스 변수를 수정할 수 있다. (User.count의 클래스 변수와 별도.)\n",
    "user1.count = 3\n",
    "\n",
    "print(User.count)\n",
    "print(user1.count)\n",
    "print(user2.count)"
   ]
  },
  {
   "cell_type": "code",
   "execution_count": 24,
   "metadata": {},
   "outputs": [
    {
     "name": "stdout",
     "output_type": "stream",
     "text": [
      "사용자: 정선우, 이메일: seonwoo0911@gmail.com\n"
     ]
    }
   ],
   "source": [
    "print(user1)    #프린트 안에 속성을 문자열로 바꿔주는 기능이 있어서 __str__ 함수가 자동으로 발동됨"
   ]
  },
  {
   "cell_type": "markdown",
   "metadata": {},
   "source": [
    "### 1-2. 객체의 행동(method)\n",
    "- 일반적으로, 인스턴스를 할당 후 메서드를 호출한다.\n",
    "    - ```user1 = User()```\n",
    "1. **인스턴스 메서드**\n",
    "    - 첫번째 인자(아규먼트)는 호출되는 인스턴스로 자동으로 넘어간다.\n",
    "        - 즉, 메서드 정의시, 첫번째 인자는 인스턴스 용 인자로 설정한다.\n",
    "        - Python에서는 `self`로 권장 : 약속\n",
    "        - `(인스턴스).(인스턴스메서드)` 형태로 호출\n",
    "        - 대부분 인스턴스 메서드, 인스턴스/클래스 변수 모두 사용 가능.\n",
    "    - **특수(specific/magic) 메서드** : __init__(), __str__()\n",
    "        1. __init__() : 인스턴스 생성시, 인스턴스 변수 초기화\n",
    "        2. __str__() : 인스턴스 문자열 형 변환시, 자동 실행\n",
    "        3. __add__() : +, 오른쪽 인스턴스를 자동으로 인자로 전달\n",
    "        4. __call__() : ()를 통해 함수를 호출하면 됨.\n",
    "2. **클래스 메서드**\n",
    "    - 첫번째 인자(아규먼트)는 호출되는 클래스가 자동으로 넘어간다.\n",
    "        - 데코레이터 `@classmethod`\n",
    "        - `cls` 권장\n",
    "        - `(클래스).(클래스메서드)` 형태로 호출\n",
    "            - 클래스 변수 호출시, cls.(클래스 변수명) 이런 식으로 함수 내에서 사용하면 된다.\n",
    "            - 많이 사용되지는 않는다. 오직 클래스 변수만 쓰일 데 사용. (인스턴스에서 사용하지 않을)\n",
    "```python\n",
    "    # 이렇게 인스턴스 메서드에서도 클래스 변수(User.count)로 호출이 가능하다.      \n",
    "    def print_number_of_users(self):\n",
    "    print(f\"총 유저 수는: {User.count}입니다\")\n",
    "\n",
    "    # 이 처럼, 인스턴스 변수를 사용하지 않는 경우, 엄밀히 클래스 메소드로 사용하는 것이 적절하다.\n",
    "    def print_number_of_users(cls):\n",
    "    print(f\"총 유저 수는: {cls.count}입니다\")\n",
    "```\n",
    "3. **정적 메서드**\n",
    "    - 클래스에는 속하되, **클래스/인스턴스의 변수 그 무엇과도 관계 없는** 않는 정적(고정된 동작을 수행) 함수.\n",
    "        - 첫 번째 인자가 자동으로 넘겨지지 않는다.\n",
    "        - 데코레이터 `@staticmethod`\n",
    "        - 일반적으로 `(클래스).(정적메서드)`"
   ]
  },
  {
   "cell_type": "code",
   "execution_count": 29,
   "metadata": {},
   "outputs": [
    {
     "name": "stdout",
     "output_type": "stream",
     "text": [
      "안녕하세요! 저는 정선우입니다.\n"
     ]
    }
   ],
   "source": [
    "user1.say_hello()   #인스턴스 메소드드"
   ]
  },
  {
   "cell_type": "code",
   "execution_count": 28,
   "metadata": {},
   "outputs": [
    {
     "name": "stdout",
     "output_type": "stream",
     "text": [
      "총 유저 수는: 2입니다.\n"
     ]
    }
   ],
   "source": [
    "# 클래스를 통해 메서드 호출\n",
    "User.print_number_of_users()\n",
    "\n",
    "########\n",
    "# *** 보통, 인스턴스를 통해 메서드 호출\n",
    "# user1.say_hello() # 중요! 앞의 인스턴스가 자동으로 self로 들어감.\n",
    "# user2.say_hello()"
   ]
  },
  {
   "cell_type": "code",
   "execution_count": 7,
   "metadata": {},
   "outputs": [
    {
     "ename": "TypeError",
     "evalue": "User.say_hello() takes 1 positional argument but 2 were given",
     "output_type": "error",
     "traceback": [
      "\u001b[0;31m---------------------------------------------------------------------------\u001b[0m",
      "\u001b[0;31mTypeError\u001b[0m                                 Traceback (most recent call last)",
      "Cell \u001b[0;32mIn[7], line 1\u001b[0m\n\u001b[0;32m----> 1\u001b[0m \u001b[43muser1\u001b[49m\u001b[38;5;241;43m.\u001b[39;49m\u001b[43msay_hello\u001b[49m\u001b[43m(\u001b[49m\u001b[43muser1\u001b[49m\u001b[43m)\u001b[49m\n\u001b[1;32m      2\u001b[0m \u001b[38;5;66;03m# 인자에 한 번더 user1 인스턴스를 넘겨주면, 2번 넘어간 것이다!\u001b[39;00m\n\u001b[1;32m      3\u001b[0m \u001b[38;5;66;03m# ==> User.say_hello(user1, user1) --> error!\u001b[39;00m\n",
      "\u001b[0;31mTypeError\u001b[0m: User.say_hello() takes 1 positional argument but 2 were given"
     ]
    }
   ],
   "source": [
    "# 인스턴스에 인스턴스 인자는 첫 번째로 자동\n",
    "\n",
    "\n",
    "# 인자에 한 번더 user1 인스턴스를 넘겨주면, 2번 넘어간 것이다!\n",
    "# ==> User.say_hello(user1, user1) --> error!"
   ]
  },
  {
   "cell_type": "code",
   "execution_count": 33,
   "metadata": {},
   "outputs": [
    {
     "name": "stdout",
     "output_type": "stream",
     "text": [
      "로그인 성공, 환영합니다.\n",
      "안녕하세요! 저는 정선우입니다.\n"
     ]
    }
   ],
   "source": [
    "# 로그인 메서드\n",
    "user1.login(email=\"seonwoo0911@gmail.com\",password=\"1234567\")"
   ]
  },
  {
   "cell_type": "markdown",
   "metadata": {},
   "source": [
    "2. def initialize() 메서드 사용\n",
    "3. def __init__() 특수 메서드 사용"
   ]
  },
  {
   "cell_type": "markdown",
   "metadata": {},
   "source": [
    "![alt text](<스크린샷 2024-09-10 오후 12.57.52.png>)"
   ]
  },
  {
   "cell_type": "markdown",
   "metadata": {},
   "source": [
    "- (틈새 개념) 일반적으로 편집기에서 **cmd(ctrl) + 클릭** -> 해당 메서드의 정의로 이동하여, 바로 확인 가능!"
   ]
  },
  {
   "cell_type": "markdown",
   "metadata": {},
   "source": [
    "- `__init__` : 인스턴스 생성시 자동 발동, 초기화 특수 메서드\n",
    "    - 인스턴스 생성 방법 : **user1 = User()**\n",
    "        - 특수 메서드가 없었다면? : 그냥, 일반 인스턴스 메서드로 생성했으면 됐다!\n",
    "        \n",
    "            ```python\n",
    "            class User:\n",
    "                def initialize(self, name, email, password):\n",
    "                    self.name = name\n",
    "                    self.email = email\n",
    "                    self.password = password\n",
    "            \n",
    "            # 사용시\n",
    "            user1 = User()\n",
    "            user.initialize(name=\"조재찬\", email=\"jjc12223a@codeit.kr\", password=\"12345\")\n",
    "\n",
    "            print(user1.name, user1.email, user1.password)\n"
   ]
  },
  {
   "cell_type": "code",
   "execution_count": 95,
   "metadata": {},
   "outputs": [
    {
     "name": "stdout",
     "output_type": "stream",
     "text": [
      "조재찬 jjc12223a@codeit.kr 12345\n"
     ]
    }
   ],
   "source": [
    "# 특수 메서드 사용 : 바로 생성시 대입 가능!\n",
    "\n",
    "# 변수 설정 확인!\n",
    "print(user1.name, user1.email, user1.password)"
   ]
  },
  {
   "cell_type": "markdown",
   "metadata": {},
   "source": [
    "- `__str__` : 인스턴스의 문자형 변환시 자동 발동, 문자열 특수 메서드 "
   ]
  },
  {
   "cell_type": "code",
   "execution_count": 9,
   "metadata": {},
   "outputs": [
    {
     "name": "stdout",
     "output_type": "stream",
     "text": [
      "사용자: 조재찬, 이메일: jjc12223a@codeit.kr\n",
      "사용자: 이윤수, 이메일: yoonsoo@codeit.kr\n",
      "사용자: 조재찬, 이메일: jjc12223a@codeit.kr\n",
      "사용자: 이윤수, 이메일: yoonsoo@codeit.kr\n"
     ]
    }
   ],
   "source": [
    "# 사용해보기\n",
    "\n",
    "# print 문은 자동으로 문자형 변환을 해준다.\n",
    "print(user1)\n",
    "print(user2)"
   ]
  },
  {
   "cell_type": "markdown",
   "metadata": {},
   "source": [
    "- 클래스 메서드\n",
    "    - (클래스).(클래스 메서드) 형태로\n",
    "    - 클래스 단위로 "
   ]
  },
  {
   "cell_type": "code",
   "execution_count": 34,
   "metadata": {},
   "outputs": [
    {
     "name": "stdout",
     "output_type": "stream",
     "text": [
      "총 유저 수는: 2입니다.\n"
     ]
    }
   ],
   "source": [
    "# 사용해보기\n",
    "User.print_number_of_users()"
   ]
  },
  {
   "cell_type": "markdown",
   "metadata": {},
   "source": [
    "- 정적 메서드\n",
    "    - (클래스).(정적 메서드) 형태로\n",
    "    - 클래스 단위로 "
   ]
  },
  {
   "cell_type": "code",
   "execution_count": 39,
   "metadata": {},
   "outputs": [
    {
     "data": {
      "text/plain": [
       "True"
      ]
     },
     "execution_count": 39,
     "metadata": {},
     "output_type": "execute_result"
    }
   ],
   "source": [
    "# 사용해보기\n",
    "User.valid_email(email=\"seonwoo0911@\")"
   ]
  },
  {
   "cell_type": "markdown",
   "metadata": {},
   "source": [
    "### 데코레이터\n",
    "- 작동원리: 함수를 인자(어규먼트)로 받는 함수가 기능을 확장시키는 역할을 수행한다.\n",
    "    1. 직접 정의\n",
    "    2. 파이썬 빌트인 : \n",
    "        - ex. functools의 cache 데코레이터 \n",
    "            - 함수의 특정 아규먼트에 대한 결과를 저장해놨다가, 같은 아규먼트가 넘어왔을 때 결과가 같을 것이므로, \n",
    "            - **한 번 더 연산을 해 추가 비용을 발생시키지 않고** 이미 저장한 결과를 갖고 오는, 말 그대로 cache의 역할 기능을 추가하는 데코레이터이다.\n",
    "        \n"
   ]
  },
  {
   "cell_type": "markdown",
   "metadata": {},
   "source": [
    "### 스페셜(특수/매직) 메서드\n",
    "\n",
    "- 참고로 봐주세요! 여기서 여러분이 얻어가야할 건, 우리가 사용하는 모든 직관적 문법(ex. len(), List[0], ...)이, \n",
    "    - 결국 내부 과정을 뜯어보면, 모두 **클래스라는 객체에 대한 특정 기능(메서드) 형태**로 동일하게 정의되어 있다는 것입니다.\n",
    "        - 즉, 파이썬이 배운 대로 모든 것이, 객체로 구성된 `객체 지향 언어라는 깨달음`입니다!\n",
    "\n",
    "- 단순한 문법 대응 규칙 살펴보기\n",
    "    1. 사칙 연산 메소드\n",
    "\n",
    "    ![alt text](<스크린샷 2024-09-11 오후 4.03.00.png>)\n",
    "    \n",
    "    2. 불린 메소드\n",
    "    \n",
    "    ![alt text](<스크린샷 2024-09-11 오후 4.03.35.png>)\n",
    "    \n",
    "    3. 컨테이너 메소드\n",
    "    \n",
    "    ![alt text](<스크린샷 2024-09-11 오후 4.04.01.png>)\n"
   ]
  },
  {
   "cell_type": "markdown",
   "metadata": {},
   "source": [
    "- (참고) 데코레이터, cache 함수의 용례"
   ]
  },
  {
   "cell_type": "code",
   "execution_count": 41,
   "metadata": {},
   "outputs": [
    {
     "name": "stdout",
     "output_type": "stream",
     "text": [
      "No Cache Time (100): 0.0\n",
      "Cache Time First Call (100): 0.009005069732666016\n",
      "Cache Time Second Call (100): 0.0\n",
      "Factorial Result Match: True\n"
     ]
    }
   ],
   "source": [
    "# 사용해보기\n",
    "\n",
    "import time\n",
    "from functools import cache\n",
    "\n",
    "# Cache를 사용하지 않은 factorial 함수\n",
    "def factorial_no_cache(n):\n",
    "    if n > 1:\n",
    "        return n * factorial_no_cache(n-1)\n",
    "    else:\n",
    "        return 1\n",
    "\n",
    "############ 데코레이터 사용 ############\n",
    "# Cache를 사용하는 factorial 함수\n",
    "@cache \n",
    "def factorial_with_cache(n):\n",
    "    if n > 1:\n",
    "        return n * factorial_with_cache(n-1)\n",
    "    else:\n",
    "        return 1\n",
    "\n",
    "# 실행 시간 측정을 위한 함수\n",
    "def measure_time(func, *args):\n",
    "    start_time = time.time()\n",
    "    result = func(*args)\n",
    "    end_time = time.time()\n",
    "    return result, end_time - start_time\n",
    "\n",
    "# 동일한 입력 값 100에 대해 Cache와 Non-Cache 함수의 실행 시간 측정\n",
    "no_cache_result, no_cache_time = measure_time(factorial_no_cache, 100)\n",
    "cache_result_first, cache_time_first = measure_time(factorial_with_cache, 100)\n",
    "cache_result_second, cache_time_second = measure_time(factorial_with_cache, 100)\n",
    "\n",
    "# 결과 출력\n",
    "print(f\"No Cache Time (100): {no_cache_time}\")\n",
    "print(f\"Cache Time First Call (100): {cache_time_first}\")\n",
    "print(f\"Cache Time Second Call (100): {cache_time_second}\") # 즉, 2번째 실행시, 첫 번째 결과가 저장되어, 시간이 0에 수렴.\n",
    "print(f\"Factorial Result Match: {no_cache_result == cache_result_first == cache_result_second}\")"
   ]
  },
  {
   "cell_type": "markdown",
   "metadata": {},
   "source": [
    "### 1-3. 실습"
   ]
  },
  {
   "cell_type": "markdown",
   "metadata": {},
   "source": [
    "#### - [`맞팔해요`](https://www.codeit.kr/topics/objects-and-classes/lessons/1970)"
   ]
  },
  {
   "cell_type": "code",
   "execution_count": 78,
   "metadata": {},
   "outputs": [
    {
     "name": "stdout",
     "output_type": "stream",
     "text": [
      "Young 2 2\n",
      "Yoonsoo 1 3\n",
      "Taeho 2 0\n",
      "Lisa 1 1\n"
     ]
    }
   ],
   "source": [
    "class User: # 클래스 이름의 첫 글자는 대문자\n",
    "    \n",
    "    # init 특수 메소드는 '인스턴스 생성시 작동'\n",
    "    def __init__(self, name, email, password): # initialize\n",
    "        self.name = name\n",
    "        self.email = email\n",
    "        self.password = password\n",
    "        self.following_list = []  # 내가 팔로우 하는 상대의 목록\n",
    "        self.followers_list = []   # 상대가 팔로우 하는 목록\n",
    "\n",
    "    def say_hello(self):   #self는 계속 붙는다\n",
    "        print(f\"안녕하세요! 저는 {self.name}입니다.\")\n",
    "\n",
    "    def login(self, email, password):\n",
    "        if self.email == email and self.password == password:\n",
    "            print(\"로그인 성공, 환영합니다.\")\n",
    "            self.say_hello()             # 메소드는 항상 괄호를 열어주어야 한다.\n",
    "        else:\n",
    "            print(\"로그인 실패, 없는 아이디이거나 잘못된 비밀번호입니다.\")\n",
    "    \n",
    "    def follow(self, another_user):   # another_user가 인스턴스\n",
    "        # 나의 팔로우 목록에 상대 인스턴스를 추가\n",
    "        self.following_list.append(another_user)\n",
    "        # 상대의 인스턴스의 팔로우 당한 목록에 나의 인스턴스가 추가\n",
    "        another_user.followers_list.append(self)\n",
    "    \n",
    "    def num_following(self):\n",
    "        return len(self.following_list)\n",
    "    \n",
    "    def num_followers(self):\n",
    "        return len(self.followers_list)\n",
    "    \n",
    "    def __str__(self):\n",
    "        return f\"사용자: {self.name}, 이메일: {self.email}\"\n",
    "\n",
    "# 유저들 생성\n",
    "user1 = User(\"Young\", \"young@codeit.kr\", \"123456\")\n",
    "user2 = User(\"Yoonsoo\", \"yoonsoo@codeit.kr\", \"abcdef\")\n",
    "user3 = User(\"Taeho\", \"taeho@codeit.kr\", \"123abc\")\n",
    "user4 = User(\"Lisa\", \"lisa@codeit.kr\", \"abc123\")\n",
    "\n",
    "# 유저마다 서로 관심 있는 유저를 팔로우\n",
    "user1.follow(user2)\n",
    "user1.follow(user3)\n",
    "user2.follow(user1)\n",
    "user2.follow(user3)\n",
    "user2.follow(user4)\n",
    "user4.follow(user1)\n",
    "\n",
    "# 유저 이름, 자신의 팔로워 수, 자신이 팔로우하는 사람 수를 출력합니다\n",
    "print(user1.name, user1.num_followers(), user1.num_following())\n",
    "print(user2.name, user2.num_followers(), user2.num_following())\n",
    "print(user3.name, user3.num_followers(), user3.num_following())\n",
    "print(user4.name, user4.num_followers(), user4.num_following())\n"
   ]
  },
  {
   "cell_type": "markdown",
   "metadata": {},
   "source": [
    "#### - [`배달 음식 메뉴 나타낼 클래스 : MenuItem`](https://www.codeit.kr/topics/objects-and-classes/lessons/1970)"
   ]
  },
  {
   "cell_type": "code",
   "execution_count": 46,
   "metadata": {},
   "outputs": [],
   "source": [
    "class MenuItem:\n",
    "    \n",
    "    def __init__(self, name, price):\n",
    "        self.name = name\n",
    "        self.price = price\n",
    "\n",
    "    def __str__(self):\n",
    "        return f\"{self.name} 가격: {self.price}\"\n",
    "    \n"
   ]
  },
  {
   "cell_type": "code",
   "execution_count": 48,
   "metadata": {},
   "outputs": [
    {
     "name": "stdout",
     "output_type": "stream",
     "text": [
      "햄버거 가격: 4000\n"
     ]
    }
   ],
   "source": [
    "hamburger = MenuItem(name = \"햄버거\", price = 4000)\n",
    "print(hamburger)"
   ]
  },
  {
   "cell_type": "code",
   "execution_count": 99,
   "metadata": {},
   "outputs": [
    {
     "name": "stdout",
     "output_type": "stream",
     "text": [
      "햄버거 가격: 4000\n",
      "콜라 가격: 1500\n",
      "후렌치 후라이 가격: 1500\n"
     ]
    }
   ],
   "source": [
    "hamburger = MenuItem(name=\"햄버거\", price=4000)\n",
    "coke = MenuItem(name=\"콜라\", price=1500)\n",
    "french_fried = MenuItem(name=\"후렌치 후라이\", price=1500)\n",
    "\n",
    "# print시 자동 문자열 변환\n",
    "print(hamburger)\n",
    "print(coke)\n",
    "print(french_fried)"
   ]
  },
  {
   "cell_type": "markdown",
   "metadata": {},
   "source": [
    "#### - [`게임 캐릭터 만들기 : GameCharacter`](https://www.codeit.kr/topics/objects-and-classes/lessons/1975)"
   ]
  },
  {
   "cell_type": "code",
   "execution_count": 52,
   "metadata": {},
   "outputs": [],
   "source": [
    "class GameCharacter:                            #if else 문을 한줄로 적는 것이 있음\n",
    "    def __init__(self, name, hp, power):\n",
    "        self.name = name\n",
    "        self.hp = hp\n",
    "        self.power = power\n",
    "    \n",
    "    def is_alive(self):\n",
    "        return self.hp > 0\n",
    "    \n",
    "    def get_attacked(self, damage):\n",
    "        if self.is_alive():\n",
    "            #원래 방법\n",
    "            if self.hp >= damage:\n",
    "                self.hp = self.hp - damage\n",
    "            else:\n",
    "                self.hp = 0\n",
    "\n",
    "            ### 한 줄로 적기!\n",
    "            #self.hp = self.hp - self.damage if self.hp >= damage else 0\n",
    "        else:\n",
    "            print(f\"{self.name}님은 죽었습니다.\")\n",
    "\n",
    "    def attack(self, another_charactor):\n",
    "        if self.is_alive():\n",
    "            another_charactor.get_attacked(damage = self.power)\n",
    "        \n",
    "    def __str__(self):\n",
    "        return f\"{self.name}님은 현재 hp가 {self.hp}만큼 남았습니다.\""
   ]
  },
  {
   "cell_type": "code",
   "execution_count": 54,
   "metadata": {},
   "outputs": [],
   "source": [
    "# 게임 캐릭터 인스턴스 생성                        \n",
    "character_1 = GameCharacter(name = \"Ww영훈전사wW\", hp = 200, power = 30)\n",
    "character_2 = GameCharacter(\"Xx지웅최고xX\", 100, 50)"
   ]
  },
  {
   "cell_type": "code",
   "execution_count": 55,
   "metadata": {},
   "outputs": [
    {
     "name": "stdout",
     "output_type": "stream",
     "text": [
      "Ww영훈전사wW님은 죽었습니다.\n",
      "Ww영훈전사wW님은 현재 hp가 0만큼 남았습니다.\n",
      "Xx지웅최고xX님은 현재 hp가 70만큼 남았습니다.\n"
     ]
    }
   ],
   "source": [
    "\n",
    "    \n",
    "# 게임 캐릭터 인스턴스들 서로 공격\n",
    "character_1.attack(character_2)\n",
    "character_2.attack(character_1)\n",
    "character_2.attack(character_1)\n",
    "character_2.attack(character_1)\n",
    "character_2.attack(character_1)\n",
    "character_2.attack(character_1)\n",
    "    \n",
    "# 게임 캐릭터 인스턴스 출력\n",
    "print(character_1)\n",
    "print(character_2)\n"
   ]
  },
  {
   "cell_type": "markdown",
   "metadata": {},
   "source": [
    "#### - [`블로그 유저 만들기`](https://www.codeit.kr/topics/objects-and-classes/lessons/1977)"
   ]
  },
  {
   "cell_type": "code",
   "execution_count": 57,
   "metadata": {},
   "outputs": [],
   "source": [
    "class Post:\n",
    "    # 게시글 클래스\n",
    "    def __init__(self, date, content):\n",
    "        self.date = date\n",
    "        self.content = content\n",
    "\n",
    "    def __str__(self):\n",
    "        return f\"작성 날짜:{self.date}\\n 내용: {self.content}\"\n",
    "    "
   ]
  },
  {
   "cell_type": "markdown",
   "metadata": {},
   "source": [
    "- (참고) Post와 User는 User가 Post를 작성하는 관계이지, 상속 관계는 아니다."
   ]
  },
  {
   "cell_type": "code",
   "execution_count": 58,
   "metadata": {},
   "outputs": [],
   "source": [
    "class BlogUser:\n",
    "    def __init__(self, name):\n",
    "        self.name = name\n",
    "        self.posts = []\n",
    "\n",
    "    def add_post(self, date, content):\n",
    "        new_post = Post(date, content)\n",
    "\n",
    "        self.posts.append(new_post)\n",
    "\n",
    "        print(\"게시가 완료되었습니다.\")\n",
    "    \n",
    "    def show_all_posts(self):\n",
    "        for post in self.posts:\n",
    "            print(post)\n",
    "\n",
    "    def __str__(self):\n",
    "        return f\"안녕하세요. {self.name}입니다.\""
   ]
  },
  {
   "cell_type": "code",
   "execution_count": 59,
   "metadata": {},
   "outputs": [
    {
     "name": "stdout",
     "output_type": "stream",
     "text": [
      "안녕하세요. 조재찬입니다.\n"
     ]
    }
   ],
   "source": [
    "# 블로그 유저 인스턴스 생성\n",
    "blog_user_1 = BlogUser(\"조재찬\")\n",
    "\n",
    "# 블로그 유저 인스턴스 출력(인사, 이름)\n",
    "print(blog_user_1)"
   ]
  },
  {
   "cell_type": "code",
   "execution_count": 60,
   "metadata": {},
   "outputs": [
    {
     "name": "stdout",
     "output_type": "stream",
     "text": [
      "게시가 완료되었습니다.\n",
      "게시가 완료되었습니다.\n"
     ]
    }
   ],
   "source": [
    "# 블로그 유저 게시글 2개 추가\n",
    "blog_user_1.add_post(date=\"2019년 8월 30일\", content=\"\"\"\n",
    "오늘은 내 생일이었다.\n",
    "많은 사람들이 축하해줬다.\n",
    "행복했다.\n",
    "\"\"\")\n",
    "\n",
    "blog_user_1.add_post(\"2019년 8월 31일\", \"\"\"\n",
    "재밌는 코딩 교육 사이트를 찾았다.\n",
    "코드잇이란 곳인데 최고다.\n",
    "같이 공부하실 분들은 www.codeit.kr로 오세요!\n",
    "\"\"\")"
   ]
  },
  {
   "cell_type": "code",
   "execution_count": 106,
   "metadata": {},
   "outputs": [
    {
     "name": "stdout",
     "output_type": "stream",
     "text": [
      "작성 날짜: 2019년 8월 30일\n",
      "내용: \n",
      "오늘은 내 생일이었다.\n",
      "많은 사람들이 축하해줬다.\n",
      "행복했다.\n",
      "\n",
      "작성 날짜: 2019년 8월 31일\n",
      "내용: \n",
      "재밌는 코딩 교육 사이트를 찾았다.\n",
      "코드잇이란 곳인데 최고다.\n",
      "같이 공부하실 분들은 www.codeit.kr로 오세요!\n",
      "\n"
     ]
    }
   ],
   "source": [
    "# 블로그 유저의 모든 게시글 출력\n",
    "blog_user_1.show_all_posts()"
   ]
  },
  {
   "cell_type": "markdown",
   "metadata": {},
   "source": [
    "#### - [`다양한 데이터 형태를 처리하는 인스턴스 만들기 : 다형성 - 클래스 메서드 실습`](https://www.codeit.kr/topics/objects-and-classes/lessons/1959)"
   ]
  },
  {
   "cell_type": "code",
   "execution_count": 65,
   "metadata": {},
   "outputs": [],
   "source": [
    "info_string = \"강영훈,younghoon@codeit.kr,123456\"\n",
    "info_list = [\"이윤수\", \"yoonsoo@codeit.kr\", \"abcdef\"]"
   ]
  },
  {
   "cell_type": "markdown",
   "metadata": {},
   "source": [
    "- string은 split 처리가 별도로 필요하기에"
   ]
  },
  {
   "cell_type": "code",
   "execution_count": 66,
   "metadata": {},
   "outputs": [],
   "source": [
    "parameter_list = info_string.split(\",\")\n",
    "\n"
   ]
  },
  {
   "cell_type": "code",
   "execution_count": 67,
   "metadata": {},
   "outputs": [],
   "source": [
    "class User: # 클래스 이름의 첫 글자는 대문자\n",
    "    \n",
    "    # init 특수 메소드는 '인스턴스 생성시 작동'\n",
    "    def __init__(self, name, email, password): # initialize\n",
    "        self.name = name\n",
    "        self.email = email\n",
    "        self.password = password\n",
    "        self.following_list = []\n",
    "        self.followers_list = []\n",
    "\n",
    "###########객체의 다형성 특징:  문자열과 리스트 다양한 입력에도 처리 가능한 객체 생성 ###########\n",
    "\n",
    "    @classmethod\n",
    "    def from_string(cls, string_params): # 간단한 데이터 전처리의 기능을 클래스 메서드로 구현할 수 있다.\n",
    "        ### 코드가 뭔진 모르겠지만, cls를 가지고 뭔가를 할 것이다.\n",
    "        parameter_list = string_params.split(\",\")\n",
    "        name = parameter_list[0]\n",
    "        email = parameter_list[1]\n",
    "        password = parameter_list[2]\n",
    "        return cls(name, email, password)\n",
    "    \n",
    "    @classmethod\n",
    "    def from_list(cls, list_params):\n",
    "        name = parameter_list[0]\n",
    "        email = parameter_list[1]\n",
    "        password = parameter_list[2]\n",
    "        return cls(name, email, password)   \n",
    "  \n",
    "  ############################# 아래는 위 내용 복붙 ##############################  \n",
    "    \n",
    "    def say_hello(self): # 메서드의 첫 인자는 인스턴스 용 : self로 약속\n",
    "        print(f\"안녕하세요! 저는 {self.name}입니다!\")\n",
    "        \n",
    "    def login(self, email, password):\n",
    "        if self.email == email and self.password == password:\n",
    "            print(\"로그인 성공, 환영합니다.\")\n",
    "            self.say_hello() # 메서드 안에 다른 메서드를 호출하기\n",
    "        else:\n",
    "            print(\"로그인 실패, 없는 아이디이거나 잘못된 비밀번호입니다.\")\n",
    "    \n",
    "    def follow(self, another_user):\n",
    "        # 1. \"내가 팔로우하는 사람\" 목록에 그 사람을 추가하는 동작\n",
    "        self.following_list.append(another_user) # 그냥 인스턴스 객체 자체를 넣어버리네!\n",
    "        # 2. 상대방의 \"나를 팔로우하는 사람\" 목록에 나를 추가하는 동작\n",
    "        another_user.followers_list.append(self)\n",
    "        \n",
    "    def num_following(self):\n",
    "        return len(self.following_list)\n",
    "    \n",
    "    def num_followers(self):\n",
    "        return len(self.followers_list)\n",
    "        \n",
    "    # string 특수 메소드는 '인스턴스 문자열 형 변환시 작동'\n",
    "    def __str__(self):\n",
    "        return f\"사용자: {self.name}, 이메일: {self.email}\"\n"
   ]
  },
  {
   "cell_type": "code",
   "execution_count": 126,
   "metadata": {},
   "outputs": [
    {
     "name": "stdout",
     "output_type": "stream",
     "text": [
      "강영훈 younghoon@codeit.kr 123456\n",
      "이윤수 yoonsoo@codeit.kr abcdef\n"
     ]
    }
   ],
   "source": [
    "info_string = \"강영훈,younghoon@codeit.kr,123456\"\n",
    "info_list = [\"이윤수\", \"yoonsoo@codeit.kr\", \"abcdef\"]\n",
    "\n",
    "user1 = User.from_string(info_string)\n",
    "user2 = User.from_list(info_list)\n",
    "\n",
    "# 인스턴스가 제대로 생성되었는지 확인\n",
    "print(user1.name, user1.email, user1.password)\n",
    "print(user2.name, user2.email, user2.password)"
   ]
  },
  {
   "cell_type": "markdown",
   "metadata": {},
   "source": [
    "#### - [`속성 없이 행동만 있는 객체 : (인스턴스) 변수는 없고 메소드만 있는 클래스 - 정적 메소드 실습`](https://www.codeit.kr/topics/objects-and-classes/lessons/1972)\n",
    "- 우리의 첫 실습, calculator 모듈도, 이처럼 클래스 형태로 정의하는 것이 더 적절합니다!\n",
    "    - 정적메서드들 : 클래스와 인스턴스 변수의 사용이 없기에!\n",
    "        - 물론, SimpleCalculator(first_number, second_number) 이런식으로 인스턴스 생성시 변수 할당을 해도 되지만, 부자연스럽다!"
   ]
  },
  {
   "cell_type": "code",
   "execution_count": 68,
   "metadata": {},
   "outputs": [
    {
     "name": "stdout",
     "output_type": "stream",
     "text": [
      "9\n",
      "-1\n",
      "20\n",
      "0.8\n"
     ]
    }
   ],
   "source": [
    "class SimpleCalculator:\n",
    "    # 계산기 클래스\n",
    "    @staticmethod\n",
    "    def add(x,y):\n",
    "        return x + y\n",
    "    \n",
    "    @staticmethod\n",
    "    def subtract(x,y):\n",
    "        return x - y\n",
    "    \n",
    "    @staticmethod\n",
    "    def multiply(x,y):\n",
    "        return x * y\n",
    "    \n",
    "    @staticmethod\n",
    "    def divide(x,y):\n",
    "        return x / y\n",
    "    \n",
    "# 계산기 인스턴스 생성\n",
    "calculator = SimpleCalculator()\n",
    "    \n",
    "# 계산기 연산 호출\n",
    "print(calculator.add(4, 5))\n",
    "print(calculator.subtract(4, 5))\n",
    "print(calculator.multiply(4, 5))\n",
    "print(calculator.divide(4, 5))\n"
   ]
  },
  {
   "cell_type": "markdown",
   "metadata": {},
   "source": []
  },
  {
   "cell_type": "markdown",
   "metadata": {},
   "source": [
    "#### - [플레이리스트 합치기 - 스페셜 메서드 실습](https://www.codeit.kr/topics/objects-and-classes/lessons/6776)"
   ]
  },
  {
   "cell_type": "code",
   "execution_count": 73,
   "metadata": {},
   "outputs": [
    {
     "ename": "NameError",
     "evalue": "name 'us_pop_2010s' is not defined",
     "output_type": "error",
     "traceback": [
      "\u001b[1;31m---------------------------------------------------------------------------\u001b[0m",
      "\u001b[1;31mNameError\u001b[0m                                 Traceback (most recent call last)",
      "Cell \u001b[1;32mIn[73], line 42\u001b[0m\n\u001b[0;32m     39\u001b[0m us_Playlist\u001b[38;5;241m=\u001b[39mPlaylist([rolling_in_the_deep, call_me_maybe, get_lucky, uptown_funk])\n\u001b[0;32m     40\u001b[0m k_pop_2010s \u001b[38;5;241m=\u001b[39m Playlist([palette, blood_sweat_and_tears, tt])\n\u001b[1;32m---> 42\u001b[0m \u001b[38;5;28mprint\u001b[39m(\u001b[43mus_pop_2010s\u001b[49m)\n\u001b[0;32m     43\u001b[0m \u001b[38;5;28mprint\u001b[39m(k_pop_2010s)\n\u001b[0;32m     45\u001b[0m pop_2010s \u001b[38;5;241m=\u001b[39m us_pop_2010s \u001b[38;5;241m+\u001b[39m k_pop_2010s \u001b[38;5;66;03m# == PlayList([rolling_in_the_deep, call_me_maybe, get_lucky, uptown_funk] + [palette, blood_sweat_and_tears, tt])\u001b[39;00m\n",
      "\u001b[1;31mNameError\u001b[0m: name 'us_pop_2010s' is not defined"
     ]
    }
   ],
   "source": [
    "class Song:\n",
    "    def __init__(self, title, artist, year):\n",
    "        self.title = title\n",
    "        self.artist = artist\n",
    "        self.year = year\n",
    "    \n",
    "    def __str__(self):\n",
    "        return f\"{self.title} - {self.artist} ({self.year})\"\n",
    "    \n",
    "class Playlist:\n",
    "    def __init__(self, songs):\n",
    "        self.songs = songs\n",
    "\n",
    "    def __str__(self):\n",
    "\n",
    "        result = f\"플레이리스트 안 노래들:\\n\\n\"\n",
    "\n",
    "        for song in self.songs:\n",
    "            result += f'{song}\\n'\n",
    "            # print(song)\n",
    "        return result\n",
    "    \n",
    "    def __add__(self,other_playlist):\n",
    "        return Playlist(self.songs + other_playlist.songs)\n",
    "\n",
    "# 실행 코드\n",
    "### 노래들 인스턴스 생성\n",
    "##### us-pop\n",
    "rolling_in_the_deep = Song(\"Rolling in the Deep\", \"Adele\", 2011)\n",
    "call_me_maybe = Song(\"Call Me Maybe\", \"Carly Rae Jepsen\", 2012)\n",
    "get_lucky = Song(\"Get Lucky\", \"Daft Punk\", 2013)\n",
    "uptown_funk = Song(\"Uptown Funk\", \"Mark Ronson\", 2015)\n",
    "##### k-pop\n",
    "palette = Song(\"Pallete(팔레트)\", \"아이유\", 2017)\n",
    "blood_sweat_and_tears = Song(\"피 땀 눈물\", \"방탄소년단\", 2016)\n",
    "tt = Song(\"TT\", \"트와이스\", 2016)\n",
    "\n",
    "### 플레이 리스트에 노래들 추가\n",
    "us_Playlist=Playlist([rolling_in_the_deep, call_me_maybe, get_lucky, uptown_funk])\n",
    "k_pop_2010s = Playlist([palette, blood_sweat_and_tears, tt])\n",
    "\n",
    "print(us_pop_2010s)\n",
    "print(k_pop_2010s)\n",
    "\n",
    "pop_2010s = us_pop_2010s + k_pop_2010s # == PlayList([rolling_in_the_deep, call_me_maybe, get_lucky, uptown_funk] + [palette, blood_sweat_and_tears, tt])\n",
    "print(pop_2010s)"
   ]
  },
  {
   "cell_type": "code",
   "execution_count": 70,
   "metadata": {},
   "outputs": [],
   "source": [
    "### 노래들 인스턴스 생성\n",
    "##### us-pop\n",
    "rolling_in_the_deep = Song(\"Rolling in the Deep\", \"Adele\", 2011)\n",
    "call_me_maybe = Song(\"Call Me Maybe\", \"Carly Rae Jepsen\", 2012)\n",
    "get_lucky = Song(\"Get Lucky\", \"Daft Punk\", 2013)\n",
    "uptown_funk = Song(\"Uptown Funk\", \"Mark Ronson\", 2015)"
   ]
  },
  {
   "cell_type": "code",
   "execution_count": 71,
   "metadata": {},
   "outputs": [],
   "source": [
    "##### k-pop\n",
    "palette = Song(\"Pallete(팔레트)\", \"아이유\", 2017)\n",
    "blood_sweat_and_tears = Song(\"피 땀 눈물\", \"방탄소년단\", 2016)\n",
    "tt = Song(\"TT\", \"트와이스\", 2016)"
   ]
  },
  {
   "cell_type": "code",
   "execution_count": 72,
   "metadata": {},
   "outputs": [],
   "source": [
    "us_Playlist=Playlist([rolling_in_the_deep, call_me_maybe, get_lucky, uptown_funk])"
   ]
  },
  {
   "cell_type": "code",
   "execution_count": 74,
   "metadata": {},
   "outputs": [],
   "source": [
    "k_pop_2010s = Playlist([palette, blood_sweat_and_tears, tt])"
   ]
  },
  {
   "cell_type": "markdown",
   "metadata": {},
   "source": [
    "- (참고) 클래스 정의의 범위 기준은?\n",
    "\n",
    "    - ```파일 분리의 기준``` : 연관성 (프로그램을 기획하는 정의에 따라 달라진다.)\n",
    "        - 기술적으로는, 각 클래스 마다 하나의 파일 혹은 연관 있는 클래스들을 묶어서 저장하는 것이 최대.\n",
    "        - 실행하기 위한 파일은 별도로 둔다. ex) `main.py`, `driver.py` 등등\n",
    "        ```python\n",
    "        # user.py라는 파일 안에 class User가 정의되었다면,\n",
    "        from user import User\n",
    "\n",
    "        user1 = User(\"조재찬\", \"jjc12223a@codeit.xyz\", \"123456\")\n",
    "        ```"
   ]
  },
  {
   "cell_type": "markdown",
   "metadata": {},
   "source": [
    "- `if __name__ == \"__main__\"`:\n",
    "\n",
    "    - 이는 스크립트가 불러와서 실행되는지 혹은 `직접 실행되는지를 구분`해주는 널리 쓰이는 관용구 (import를 써서 하는지 아닌지)\n",
    "        \n",
    "        - 즉, 직접 실행시에 사용할 코드를 안에 작성합니다.\n",
    "\n",
    "            - 세세한 원리\n",
    "                - 불러와서 쓰일 때는, __name__이 그 모듈의 이름(즉, 저장된 파일명)이 됩니다. \n",
    "                - 만일 user.py를 import user로 불러온다면, __name__ == \"user\"\n",
    "                    - 직접 실행할 때는,  __name__ == \"__main__\""
   ]
  }
 ],
 "metadata": {
  "kernelspec": {
   "display_name": "Python 3",
   "language": "python",
   "name": "python3"
  },
  "language_info": {
   "codemirror_mode": {
    "name": "ipython",
    "version": 3
   },
   "file_extension": ".py",
   "mimetype": "text/x-python",
   "name": "python",
   "nbconvert_exporter": "python",
   "pygments_lexer": "ipython3",
   "version": "3.12.7"
  }
 },
 "nbformat": 4,
 "nbformat_minor": 2
}
