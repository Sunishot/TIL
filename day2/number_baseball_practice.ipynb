{
 "cells": [
  {
   "cell_type": "markdown",
   "metadata": {},
   "source": [
    "# Python 응용하기"
   ]
  },
  {
   "cell_type": "markdown",
   "metadata": {},
   "source": [
    "## 5. [number baseball](https://www.codeit.kr/topics/making-use-of-python/lessons/2839)\n",
    ">    - 숫자 야구 게임을 만들어봅시다!\n",
    ">    - 과정이 많기에 아래 4가지의 단계를 나눠서 진행합니다!\n",
    "\n",
    "1. 숫자 3개 뽑기\n",
    "2. 숫자 예측하기\n",
    "3. 점수 계산\n",
    "4. 코드 하나로 합치기"
   ]
  },
  {
   "cell_type": "markdown",
   "metadata": {},
   "source": [
    "<규칙>\n",
    "- 컴퓨터 0~9 서로 다른 숫자 3개 무작위 뽑기 : 문제 출제\n",
    "- 사용자는 숫자 3개를 입력해 정답을 맞춥니다.\n",
    "- S(스트라이크) : 숫자의 값과 위치가 맞는 경우\n",
    "- B(볼) : 숫자의 값은 맞는데, 위치가 틀린 경우\n",
    "- 시도 횟수에 제한은 없지만, 총 몇 번 시도했는지 기록\n",
    "- 3S이면 프로그램 종료"
   ]
  },
  {
   "cell_type": "markdown",
   "metadata": {},
   "source": [
    "<게임 진행 방식>\n",
    "1. ```0과 9 사이의 서로 다른 숫자 3개를 랜덤한 순서로 뽑았습니다.```가 출력됨.\n",
    "2. ```숫자 3개를 하나씩 차례대로 입력하세요.```가 출력됩니다.\n",
    "3. ```1번째 숫자를 입력하세요:```가 출력되고, 사용자로부터 입력을 받습니다. 마찬가지로 ```2번째 숫자를 입력하세요:```와 ```3번째 숫자를 입력하세요:```가 출력되고, 사용자로부터 각각 입력을 받습니다. 만약 사용자가 ***중복되는 숫자를 입력하거나 범위에서 벗어나는 숫자를 입력하면***, 사용자로부터 다시 입력 받습니다.\n",
    "4. 사용자가 올바르게 숫자 3개를 입력하면, 규칙에 따라 ```*S *B가 출력```됩니다.\n",
    "3S가 아닌 경우, 2번부터 다시 진행합니다.\n",
    "5. 사용자가 3S를 달성하면, ```축하합니다. *번 만에 숫자 3개의 값과 위치를 모두 맞히셨습니다.```가 출력됩니다. 그리고 게임은 종료됩니다."
   ]
  },
  {
   "cell_type": "markdown",
   "metadata": {},
   "source": [
    "### 5.1 숫자 3개 뽑기\n",
    "- 0~9 사이의 서로 다른 정수, 무작위로 3개 뽑기\n",
    "- 그리고 그 3개의 리스트를 리턴합니다. "
   ]
  },
  {
   "cell_type": "code",
   "execution_count": 3,
   "metadata": {},
   "outputs": [
    {
     "name": "stdout",
     "output_type": "stream",
     "text": [
      "0과 9 사이의 서로 다른 숫자 3개를 랜덤한 순서로 뽑았습니다.\n",
      "\n",
      "[4, 9, 5]\n"
     ]
    }
   ],
   "source": []
  },
  {
   "cell_type": "markdown",
   "metadata": {},
   "source": [
    "### 5.2 숫자 예측하기\n",
    "- 유저에게 숫자 3개를 입력 받는 take_guess() 함수 작성.\n",
    "- 단, 중복된 숫자(이미 입력받은 숫자 재입력) 혹은 범위를 벗어나는 숫자 입력시 안내 문구가 나갑니다.\n",
    "    - 범위 이탈 : ```범위를 벗어나는 숫자입니다. 다시 입력하세요.```\n",
    "    - 중복 숫자 : ```중복되는 숫자입니다. 다시 입력하세요.```"
   ]
  },
  {
   "cell_type": "code",
   "execution_count": null,
   "metadata": {},
   "outputs": [],
   "source": [
    "\"1번째 숫자를 입력하세요: \"\n",
    "\"2번째 숫자를 입력하세요: \"\n",
    "\"3번째 숫자를 입력하세요: \""
   ]
  },
  {
   "cell_type": "code",
   "execution_count": 1,
   "metadata": {},
   "outputs": [],
   "source": [
    "#인자, order , guess_list\n",
    "def checked_input(order, guess_list):\n",
    "    while True:\n",
    "        guess = int(input(f\"{order}번재 숫자를 입력하세요: \"))\n",
    "\n",
    "        #검증1\n",
    "        if 0 <= guess <= 9 and guess not in guess_list:\n",
    "            guess_list.append(guess)\n",
    "            break\n",
    "        elif guess in guess_list:\n",
    "            print(\"중복되는 숫자입니다. 다시 입력해주세요.\")\n",
    "            continue\n",
    "        else:\n",
    "            print(\"범위를 벗어났습니다. 다시 입력해주세요.\")\n",
    "            continue\n",
    "    return guess_list\n"
   ]
  },
  {
   "cell_type": "code",
   "execution_count": 17,
   "metadata": {},
   "outputs": [
    {
     "ename": "NameError",
     "evalue": "name 'checked_input' is not defined",
     "output_type": "error",
     "traceback": [
      "\u001b[1;31m---------------------------------------------------------------------------\u001b[0m",
      "\u001b[1;31mNameError\u001b[0m                                 Traceback (most recent call last)",
      "Cell \u001b[1;32mIn[17], line 9\u001b[0m\n\u001b[0;32m      6\u001b[0m         guess_list \u001b[38;5;241m=\u001b[39m checked_input(order\u001b[38;5;241m=\u001b[39mi, guess_list \u001b[38;5;241m=\u001b[39m guess_list)\n\u001b[0;32m      8\u001b[0m     \u001b[38;5;28;01mreturn\u001b[39;00m guess_list\n\u001b[1;32m----> 9\u001b[0m \u001b[43mget_guess_list\u001b[49m\u001b[43m(\u001b[49m\u001b[43m)\u001b[49m\n",
      "Cell \u001b[1;32mIn[17], line 6\u001b[0m, in \u001b[0;36mget_guess_list\u001b[1;34m()\u001b[0m\n\u001b[0;32m      3\u001b[0m guess_list \u001b[38;5;241m=\u001b[39m []\n\u001b[0;32m      5\u001b[0m \u001b[38;5;28;01mfor\u001b[39;00m i \u001b[38;5;129;01min\u001b[39;00m \u001b[38;5;28mrange\u001b[39m(\u001b[38;5;241m1\u001b[39m, \u001b[38;5;241m3\u001b[39m\u001b[38;5;241m+\u001b[39m\u001b[38;5;241m1\u001b[39m):\n\u001b[1;32m----> 6\u001b[0m     guess_list \u001b[38;5;241m=\u001b[39m \u001b[43mchecked_input\u001b[49m(order\u001b[38;5;241m=\u001b[39mi, guess_list \u001b[38;5;241m=\u001b[39m guess_list)\n\u001b[0;32m      8\u001b[0m \u001b[38;5;28;01mreturn\u001b[39;00m guess_list\n",
      "\u001b[1;31mNameError\u001b[0m: name 'checked_input' is not defined"
     ]
    }
   ],
   "source": [
    "def get_guess_list():\n",
    "\n",
    "    guess_list = []\n",
    "\n",
    "    for i in range(1, 3+1):\n",
    "        guess_list = checked_input(order=i, guess_list = guess_list)\n",
    "\n",
    "    return guess_list\n",
    "get_guess_list()\n"
   ]
  },
  {
   "cell_type": "code",
   "execution_count": 6,
   "metadata": {},
   "outputs": [
    {
     "name": "stdout",
     "output_type": "stream",
     "text": [
      "숫자 3개를 하나씩 차례대로 입력하세요.\n",
      "범위를 벗어나는 숫자입니다. 다시 입력하세요.\n",
      "중복되는 숫자입니다. 다시 입력하세요.\n",
      "[5, 7, 3]\n"
     ]
    }
   ],
   "source": [
    "def take_guess():\n",
    "    print(\"숫자 3개를 하나씩 차례대로 입력하세요.\")\n",
    "    \n",
    "    new_guess = []\n",
    "    \n",
    "    new_guess1 = input_num(order=1, guess_list=new_guess)\n",
    "    new_guess2 = input_num(order=2, guess_list=new_guess1)\n",
    "    new_guess3 = input_num(order=3, guess_list=new_guess2)\n",
    "    \n",
    "    return new_guess3\n",
    "    \n",
    "    \n",
    "# 테스트 코드\n",
    "print(take_guess())"
   ]
  },
  {
   "cell_type": "markdown",
   "metadata": {},
   "source": [
    "### 5.3 점수 계산\n",
    "- 이제 solution(컴퓨터가 생성한 정답 리스트)와 guesses(유저가 뽑은 3개의 리스트)를 비교해서 결과(스트라이크 수와 볼 수)를 알려주는 get_score() 함수를 작성할 것.\n",
    "- s, b: 스트라이크 수와 볼 수가 출력되어야 한다."
   ]
  },
  {
   "cell_type": "code",
   "execution_count": 33,
   "metadata": {},
   "outputs": [
    {
     "name": "stdout",
     "output_type": "stream",
     "text": [
      "3\n",
      "1\n"
     ]
    }
   ],
   "source": [
    "\n",
    "# 테스트 코드\n",
    "s_1, b_1 = get_score([2, 7, 4], [2, 4, 7])\n",
    "print(s_1, b_1)\n",
    "\n",
    "s_2, b_2 = get_score([7, 2, 4], [2, 4, 7])\n",
    "print(s_2, b_2)\n",
    "\n",
    "s_3, b_3 = get_score([0, 4, 7], [2, 4, 7])\n",
    "print(s_3, b_3)\n",
    "\n",
    "s_4, b_4 = get_score([2, 4, 7], [2, 4, 7])\n",
    "print(s_4, b_4)\n"
   ]
  },
  {
   "cell_type": "code",
   "execution_count": 19,
   "metadata": {},
   "outputs": [
    {
     "name": "stdout",
     "output_type": "stream",
     "text": [
      "0 2\n",
      "1 4\n",
      "2 7\n"
     ]
    }
   ],
   "source": [
    "#enumerate() 순회하면서, 인덱스를 함께 부여할 수 있도록 반환해주는 함수\n",
    "for i, v in enumerate([2, 4, 7]):\n",
    "    print(i, v)"
   ]
  },
  {
   "cell_type": "code",
   "execution_count": null,
   "metadata": {},
   "outputs": [],
   "source": []
  },
  {
   "cell_type": "markdown",
   "metadata": {},
   "source": [
    "### 5.4 숫자 야구 코드 하나로 합치기 \n",
    "    - 지금까지 만든 함수를 main.py에 넣어주세요.\n",
    "\n",
    "<예시 결과>"
   ]
  },
  {
   "cell_type": "code",
   "execution_count": 15,
   "metadata": {},
   "outputs": [
    {
     "name": "stdout",
     "output_type": "stream",
     "text": [
      "0과 9 사이의 서로 다른 숫자 3개를 랜덤한 순서로 뽑았습니다.\n",
      "\n",
      "숫자 3개를 하나씩 차례대로 입력하세요.\n",
      "1번째 숫자를 입력하세요: 2\n",
      "2번째 숫자를 입력하세요: 3\n",
      "3번째 숫자를 입력하세요: 8\n",
      "0S 0B\n",
      "숫자 3개를 하나씩 차례대로 입력하세요.\n",
      "1번째 숫자를 입력하세요: 1\n",
      "2번째 숫자를 입력하세요: 4\n",
      "3번째 숫자를 입력하세요: 5\n",
      "1S 0B\n",
      "숫자 3개를 하나씩 차례대로 입력하세요.\n",
      "1번째 숫자를 입력하세요: 1\n",
      "2번째 숫자를 입력하세요: 6\n",
      "3번째 숫자를 입력하세요: 7\n",
      "0S 1B\n",
      "숫자 3개를 하나씩 차례대로 입력하세요.\n",
      "1번째 숫자를 입력하세요: 6\n",
      "2번째 숫자를 입력하세요: 4\n",
      "3번째 숫자를 입력하세요: 9\n",
      "1S 2B\n",
      "숫자 3개를 하나씩 차례대로 입력하세요.\n",
      "1번째 숫자를 입력하세요: 9\n",
      "2번째 숫자를 입력하세요: 4\n",
      "3번째 숫자를 입력하세요: 6\n",
      "축하합니다. 5번 만에 숫자 3개의 값과 위치를 모두 맞히셨습니다.\n"
     ]
    }
   ],
   "source": []
  }
 ],
 "metadata": {
  "kernelspec": {
   "display_name": "Python 3",
   "language": "python",
   "name": "python3"
  },
  "language_info": {
   "codemirror_mode": {
    "name": "ipython",
    "version": 3
   },
   "file_extension": ".py",
   "mimetype": "text/x-python",
   "name": "python",
   "nbconvert_exporter": "python",
   "pygments_lexer": "ipython3",
   "version": "3.12.7"
  }
 },
 "nbformat": 4,
 "nbformat_minor": 2
}
